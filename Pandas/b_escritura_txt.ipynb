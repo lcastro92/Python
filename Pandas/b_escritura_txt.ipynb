{
 "cells": [
  {
   "cell_type": "code",
   "execution_count": 2,
   "id": "b1b47da2",
   "metadata": {},
   "outputs": [
    {
     "data": {
      "text/plain": [
       "8"
      ]
     },
     "execution_count": 2,
     "metadata": {},
     "output_type": "execute_result"
    }
   ],
   "source": [
    "import pandas as pd\n",
    "#Creando archivo para escritura\n",
    "File1=open(\"archivos/Ejemplob.txt\",\"w\")\n",
    "File1.write(\"Linea 1\\n\")\n",
    "File1.write(\"Linea 2\\n\")\n"
   ]
  },
  {
   "cell_type": "code",
   "execution_count": 3,
   "id": "43c38cad",
   "metadata": {},
   "outputs": [],
   "source": [
    "#También podemos escribir las lineas primero en un array\n",
    "Lineas =[\"Linea 1\\n\",\"Linea 2\\n\",\"Linea 3\\n\"]\n",
    "with open(\"archivos/Ejemplo3.txt\",\"w\") as File1:\n",
    "    for linea in Lineas:\n",
    "        File1.write(linea)"
   ]
  },
  {
   "cell_type": "code",
   "execution_count": null,
   "id": "d9235fae",
   "metadata": {},
   "outputs": [],
   "source": []
  }
 ],
 "metadata": {
  "kernelspec": {
   "display_name": "Python 3 (ipykernel)",
   "language": "python",
   "name": "python3"
  },
  "language_info": {
   "codemirror_mode": {
    "name": "ipython",
    "version": 3
   },
   "file_extension": ".py",
   "mimetype": "text/x-python",
   "name": "python",
   "nbconvert_exporter": "python",
   "pygments_lexer": "ipython3",
   "version": "3.10.0"
  }
 },
 "nbformat": 4,
 "nbformat_minor": 5
}
