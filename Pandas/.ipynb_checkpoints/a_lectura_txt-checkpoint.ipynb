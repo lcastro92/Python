{
 "cells": [
  {
   "cell_type": "code",
   "execution_count": 1,
   "id": "aac76d33",
   "metadata": {},
   "outputs": [],
   "source": [
    "import pandas as pd\n",
    "File1 = open(\"archivos/Ejemplo.txt\",\"r\") #El modo (w) es para escribir, r es para leer\n",
    "#y a es para agregar datos   "
   ]
  },
  {
   "cell_type": "code",
   "execution_count": 2,
   "id": "43f8d009",
   "metadata": {},
   "outputs": [
    {
     "name": "stdout",
     "output_type": "stream",
     "text": [
      "archivos/Ejemplo.txt\n"
     ]
    }
   ],
   "source": [
    "#Podemos ver el nombre del archivo\n",
    "print(File1.name)\n"
   ]
  },
  {
   "cell_type": "code",
   "execution_count": 3,
   "id": "fae8dede",
   "metadata": {},
   "outputs": [
    {
     "name": "stdout",
     "output_type": "stream",
     "text": [
      "r\n"
     ]
    }
   ],
   "source": [
    "#También qué modo estamos usando \n",
    "print(File1.mode)"
   ]
  },
  {
   "cell_type": "code",
   "execution_count": 4,
   "id": "e934d35c",
   "metadata": {},
   "outputs": [],
   "source": [
    "#Al final siempre hay que cerrar eel archivo con close\n",
    "File1.close() #También podemos usar with para reemplazar este paso\n"
   ]
  },
  {
   "cell_type": "code",
   "execution_count": 7,
   "id": "ea1c09c0",
   "metadata": {},
   "outputs": [
    {
     "name": "stdout",
     "output_type": "stream",
     "text": [
      "Primera linea\n",
      "segunda linea\n",
      "\n",
      "4ta linea\n",
      "True\n",
      "Primera linea\n",
      "segunda linea\n",
      "\n",
      "4ta linea\n"
     ]
    }
   ],
   "source": [
    "with open(\"archivos/Ejemplo.txt\",\"r\") as File1:\n",
    "    datos = File1.read()\n",
    "    print(datos)\n",
    "\n",
    "print(File1.closed)\n",
    "print(datos)"
   ]
  },
  {
   "cell_type": "code",
   "execution_count": 8,
   "id": "a446ad81",
   "metadata": {},
   "outputs": [
    {
     "name": "stdout",
     "output_type": "stream",
     "text": [
      "['Primera linea\\n', 'segunda linea\\n', '\\n', '4ta linea']\n"
     ]
    }
   ],
   "source": [
    "#Si queremos ver las lineas, usamos readlines\n",
    "with open(\"archivos/Ejemplo.txt\",\"r\") as File1:\n",
    "    datos = File1.readlines()\n",
    "    print(datos)"
   ]
  },
  {
   "cell_type": "code",
   "execution_count": 10,
   "id": "8d54c15d",
   "metadata": {},
   "outputs": [
    {
     "name": "stdout",
     "output_type": "stream",
     "text": [
      "Primera linea\n",
      "\n"
     ]
    }
   ],
   "source": [
    "#Si queremos ver sólo una linea, usamos readline\n",
    "with open(\"archivos/Ejemplo.txt\",\"r\") as File1:\n",
    "    datos = File1.readline()\n",
    "    print(datos)"
   ]
  },
  {
   "cell_type": "code",
   "execution_count": 11,
   "id": "61252a62",
   "metadata": {},
   "outputs": [
    {
     "name": "stdout",
     "output_type": "stream",
     "text": [
      "Primera linea\n",
      "\n",
      "segunda linea\n",
      "\n",
      "\n",
      "\n",
      "4ta linea\n"
     ]
    }
   ],
   "source": [
    "#Podemos usar un for para imprimir todas las lineas con readline\n",
    "with open(\"archivos/Ejemplo.txt\",\"r\") as File1:\n",
    "    for line in File1:\n",
    "        print(line)"
   ]
  },
  {
   "cell_type": "code",
   "execution_count": null,
   "id": "aad11b82",
   "metadata": {},
   "outputs": [],
   "source": []
  }
 ],
 "metadata": {
  "kernelspec": {
   "display_name": "Python 3 (ipykernel)",
   "language": "python",
   "name": "python3"
  },
  "language_info": {
   "codemirror_mode": {
    "name": "ipython",
    "version": 3
   },
   "file_extension": ".py",
   "mimetype": "text/x-python",
   "name": "python",
   "nbconvert_exporter": "python",
   "pygments_lexer": "ipython3",
   "version": "3.10.0"
  }
 },
 "nbformat": 4,
 "nbformat_minor": 5
}
