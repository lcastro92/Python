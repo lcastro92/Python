{
 "cells": [
  {
   "cell_type": "code",
   "execution_count": 1,
   "id": "b7c8b003",
   "metadata": {},
   "outputs": [],
   "source": [
    "import pandas as pd\n"
   ]
  },
  {
   "cell_type": "code",
   "execution_count": 7,
   "id": "a785d145",
   "metadata": {},
   "outputs": [],
   "source": [
    "#podemos crear un dataframe\n",
    "songs={\n",
    "        'Album':['Thriller','Back in black','The Dark Side of the Moon',\\\n",
    "               'The BodyGuard','Bat out of Hell'],\n",
    "      'Released':[1982,1980,1977,1992,1977],\n",
    "       'Length':['00:42:19','00:42:11','00:42:49','00:57:44','00:46:33']      \n",
    "      }\n"
   ]
  },
  {
   "cell_type": "code",
   "execution_count": 8,
   "id": "ada6d893",
   "metadata": {},
   "outputs": [],
   "source": [
    "#para pasarlo a data Frame usamos el método de Pandas DataFrame\n",
    "songs_frame=pd.DataFrame(songs)"
   ]
  },
  {
   "cell_type": "code",
   "execution_count": 9,
   "id": "5d7b63d1",
   "metadata": {},
   "outputs": [
    {
     "name": "stdout",
     "output_type": "stream",
     "text": [
      "0    1982\n",
      "1    1980\n",
      "2    1977\n",
      "3    1992\n",
      "4    1977\n",
      "Name: Released, dtype: int64\n"
     ]
    }
   ],
   "source": [
    "print(songs_frame['Released'])"
   ]
  },
  {
   "cell_type": "code",
   "execution_count": 10,
   "id": "130a21c3",
   "metadata": {},
   "outputs": [
    {
     "name": "stdout",
     "output_type": "stream",
     "text": [
      "[1982 1980 1977 1992]\n"
     ]
    }
   ],
   "source": [
    "#para ver valores unicos usamos unique\n",
    "print(songs_frame['Released'].unique())"
   ]
  },
  {
   "cell_type": "code",
   "execution_count": 11,
   "id": "e4e29afa",
   "metadata": {},
   "outputs": [
    {
     "name": "stdout",
     "output_type": "stream",
     "text": [
      "0     True\n",
      "1     True\n",
      "2    False\n",
      "3     True\n",
      "4    False\n",
      "Name: Released, dtype: bool\n"
     ]
    }
   ],
   "source": [
    " #Podemos ver los álbumes released después de 1980\n",
    "print(songs_frame['Released']>=1980)"
   ]
  },
  {
   "cell_type": "code",
   "execution_count": 12,
   "id": "54929bbb",
   "metadata": {},
   "outputs": [
    {
     "name": "stdout",
     "output_type": "stream",
     "text": [
      "           Album  Released    Length\n",
      "0       Thriller      1982  00:42:19\n",
      "1  Back in black      1980  00:42:11\n",
      "3  The BodyGuard      1992  00:57:44\n"
     ]
    }
   ],
   "source": [
    "#podemos guardar en otro data frame qué albumes fueron\n",
    "df1 = songs_frame[songs_frame['Released']>=1980]\n",
    "print(df1)"
   ]
  },
  {
   "cell_type": "code",
   "execution_count": 13,
   "id": "ee58bb06",
   "metadata": {},
   "outputs": [],
   "source": [
    "#Para guardar CSV\n",
    "df1.to_csv('archivos/new_songs.csv')"
   ]
  }
 ],
 "metadata": {
  "kernelspec": {
   "display_name": "Python 3 (ipykernel)",
   "language": "python",
   "name": "python3"
  },
  "language_info": {
   "codemirror_mode": {
    "name": "ipython",
    "version": 3
   },
   "file_extension": ".py",
   "mimetype": "text/x-python",
   "name": "python",
   "nbconvert_exporter": "python",
   "pygments_lexer": "ipython3",
   "version": "3.10.0"
  }
 },
 "nbformat": 4,
 "nbformat_minor": 5
}
