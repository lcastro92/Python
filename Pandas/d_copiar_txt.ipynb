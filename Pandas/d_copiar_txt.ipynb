{
 "cells": [
  {
   "cell_type": "code",
   "execution_count": 1,
   "id": "dd140a2c",
   "metadata": {},
   "outputs": [],
   "source": [
    "import pandas as pd"
   ]
  },
  {
   "cell_type": "code",
   "execution_count": 4,
   "id": "197be3b1",
   "metadata": {},
   "outputs": [],
   "source": [
    "#Para copiar un archivo a otro, podemos hacer lo siguiente\n",
    "\n",
    "#primero leemos el archivo que queremos copiar\n",
    "with open(\"archivos/Ejemplob.txt\",\"r\")as archivoLeido:\n",
    "    #creamos el archivo que tendra lo copiado\n",
    "    with open(\"archivos/archivoCopiado.txt\",\"w\") as archivoCopia:\n",
    "        for renglon in archivoLeido:\n",
    "            archivoCopia.write(renglon)\n",
    "        "
   ]
  }
 ],
 "metadata": {
  "kernelspec": {
   "display_name": "Python 3 (ipykernel)",
   "language": "python",
   "name": "python3"
  },
  "language_info": {
   "codemirror_mode": {
    "name": "ipython",
    "version": 3
   },
   "file_extension": ".py",
   "mimetype": "text/x-python",
   "name": "python",
   "nbconvert_exporter": "python",
   "pygments_lexer": "ipython3",
   "version": "3.10.0"
  }
 },
 "nbformat": 4,
 "nbformat_minor": 5
}
