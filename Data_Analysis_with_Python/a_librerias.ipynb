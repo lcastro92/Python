{
 "cells": [
  {
   "cell_type": "code",
   "execution_count": 2,
   "id": "ca8e63dd",
   "metadata": {},
   "outputs": [],
   "source": [
    "#Existen varias librerías que sirven para análisis de Datos.\n",
    "#Tenemos a Pandas que sirve para ver la estructura de la información y tiene diversas herramientas\n",
    "import pandas as pd\n",
    "\n",
    "#También tenemos Numpy, que sirve para tener listas y matrices\n",
    "import numpy as np\n",
    "\n",
    "#Y scipy que contiene librerías relacionadas a matemática avanzada, como integrales, optimización, ecuaciones\n",
    "import scipy as sp\n",
    "\n"
   ]
  },
  {
   "cell_type": "code",
   "execution_count": 5,
   "id": "ea05fe93",
   "metadata": {},
   "outputs": [],
   "source": [
    "#También hay librerías para visualización de datos\n",
    "#Matplotlib sirve para gráficos y mostrar puntos, es la más popular\n",
    "import matplotlib\n",
    "\n",
    "#Seaborn trae información sobre puntos, como mapas de calor series, etc\n",
    "import seaborn\n"
   ]
  },
  {
   "cell_type": "code",
   "execution_count": null,
   "id": "171b6299",
   "metadata": {},
   "outputs": [],
   "source": [
    "#Las librerías de algoritmos para crear modelos de Machine Learning son:\n",
    "#Scikit-learn, ideal para construir regresiones y clasificaciones\n",
    "import scikitlearn\n",
    "\n",
    "#Statsmodels sirve para explorar la información, crear modelos de estimación y performar tests estadísticos\n",
    "import statsmodels"
   ]
  },
  {
   "cell_type": "code",
   "execution_count": 9,
   "id": "822126f9",
   "metadata": {},
   "outputs": [],
   "source": [
    "a=\"Hola\""
   ]
  },
  {
   "cell_type": "code",
   "execution_count": 10,
   "id": "813bfaee",
   "metadata": {},
   "outputs": [
    {
     "name": "stdout",
     "output_type": "stream",
     "text": [
      "Hola\n"
     ]
    }
   ],
   "source": [
    "print(a)"
   ]
  },
  {
   "cell_type": "code",
   "execution_count": 11,
   "id": "4046cba7",
   "metadata": {},
   "outputs": [
    {
     "name": "stdout",
     "output_type": "stream",
     "text": [
      "Hola a todos\n"
     ]
    }
   ],
   "source": [
    "print(\"Hola a todos\")"
   ]
  },
  {
   "cell_type": "code",
   "execution_count": 12,
   "id": "407d84fd",
   "metadata": {},
   "outputs": [
    {
     "name": "stdout",
     "output_type": "stream",
     "text": [
      "Hola Lucas\n"
     ]
    }
   ],
   "source": [
    "print(a+\" Lucas\")"
   ]
  },
  {
   "cell_type": "code",
   "execution_count": null,
   "id": "216afed4",
   "metadata": {},
   "outputs": [],
   "source": []
  }
 ],
 "metadata": {
  "kernelspec": {
   "display_name": "Python 3 (ipykernel)",
   "language": "python",
   "name": "python3"
  },
  "language_info": {
   "codemirror_mode": {
    "name": "ipython",
    "version": 3
   },
   "file_extension": ".py",
   "mimetype": "text/x-python",
   "name": "python",
   "nbconvert_exporter": "python",
   "pygments_lexer": "ipython3",
   "version": "3.10.0"
  }
 },
 "nbformat": 4,
 "nbformat_minor": 5
}
