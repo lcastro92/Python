{
  "nbformat": 4,
  "nbformat_minor": 0,
  "metadata": {
    "colab": {
      "name": "i_regresion_lineal",
      "provenance": [],
      "collapsed_sections": []
    },
    "kernelspec": {
      "name": "python3",
      "display_name": "Python 3"
    },
    "language_info": {
      "name": "python"
    }
  },
  "cells": [
    {
      "cell_type": "code",
      "execution_count": 15,
      "metadata": {
        "id": "QE8aLyEHWReq"
      },
      "outputs": [],
      "source": [
        "from sklearn.linear_model import LinearRegression\n",
        "import pandas as pd\n",
        "import numpy as np\n",
        "import scipy as sc\n",
        "import matplotlib.pyplot as plt\n",
        "import seaborn as sns"
      ]
    },
    {
      "cell_type": "code",
      "source": [
        "lm=LinearRegression()"
      ],
      "metadata": {
        "id": "lYBGoOANWzvG"
      },
      "execution_count": 2,
      "outputs": []
    },
    {
      "cell_type": "code",
      "source": [
        "\n",
        "\n",
        "df = pd.DataFrame()\n",
        "df[\"drive-wheels\"] = None\n",
        "df[\"body-style\"]=None\n",
        "df[\"price\"]=None\n",
        "df[\"mpg\"]=None\n",
        "\n",
        "drive=[\"4wd\",\"4wd\",\"4wd\",\"fwd\",\"fwd\",\"fwd\",\"fwd\",\"fwd\",\"rwd\",\"rwd\",\"rwd\",\"rwd\",\"rwd\"]\n",
        "\n",
        "body=[\"hatchback\",\"sedan\",\"wagon\",\"convertible\",\"hardtop\",\"hatchback\",\"sedan\",\"wagon\",\"convertible\",\"hardtop\",\"hatchback\",\"sedan\",\"wagon\"]\n",
        "\n",
        "price=[7603,12647,9095,11595,8249,8396,9611,9997,23949,24202,14337,21711,16994]\n",
        "mpg=[17,17,23,18,15,12,17,15,18,16,14,19,15]\n",
        "\n",
        "df[\"drive-wheels\"]=drive\n",
        "df[\"body-style\"]=body\n",
        "df[\"price\"]=price\n",
        "df[\"mpg\"]=mpg\n",
        "df"
      ],
      "metadata": {
        "colab": {
          "base_uri": "https://localhost:8080/",
          "height": 457
        },
        "id": "HWTH24-fXHjT",
        "outputId": "ffe9a00b-1fb4-4b09-dba7-1c6fbf618aa2"
      },
      "execution_count": 16,
      "outputs": [
        {
          "output_type": "execute_result",
          "data": {
            "text/html": [
              "<div>\n",
              "<style scoped>\n",
              "    .dataframe tbody tr th:only-of-type {\n",
              "        vertical-align: middle;\n",
              "    }\n",
              "\n",
              "    .dataframe tbody tr th {\n",
              "        vertical-align: top;\n",
              "    }\n",
              "\n",
              "    .dataframe thead th {\n",
              "        text-align: right;\n",
              "    }\n",
              "</style>\n",
              "<table border=\"1\" class=\"dataframe\">\n",
              "  <thead>\n",
              "    <tr style=\"text-align: right;\">\n",
              "      <th></th>\n",
              "      <th>drive-wheels</th>\n",
              "      <th>body-style</th>\n",
              "      <th>price</th>\n",
              "      <th>mpg</th>\n",
              "    </tr>\n",
              "  </thead>\n",
              "  <tbody>\n",
              "    <tr>\n",
              "      <th>0</th>\n",
              "      <td>4wd</td>\n",
              "      <td>hatchback</td>\n",
              "      <td>7603</td>\n",
              "      <td>17</td>\n",
              "    </tr>\n",
              "    <tr>\n",
              "      <th>1</th>\n",
              "      <td>4wd</td>\n",
              "      <td>sedan</td>\n",
              "      <td>12647</td>\n",
              "      <td>17</td>\n",
              "    </tr>\n",
              "    <tr>\n",
              "      <th>2</th>\n",
              "      <td>4wd</td>\n",
              "      <td>wagon</td>\n",
              "      <td>9095</td>\n",
              "      <td>23</td>\n",
              "    </tr>\n",
              "    <tr>\n",
              "      <th>3</th>\n",
              "      <td>fwd</td>\n",
              "      <td>convertible</td>\n",
              "      <td>11595</td>\n",
              "      <td>18</td>\n",
              "    </tr>\n",
              "    <tr>\n",
              "      <th>4</th>\n",
              "      <td>fwd</td>\n",
              "      <td>hardtop</td>\n",
              "      <td>8249</td>\n",
              "      <td>15</td>\n",
              "    </tr>\n",
              "    <tr>\n",
              "      <th>5</th>\n",
              "      <td>fwd</td>\n",
              "      <td>hatchback</td>\n",
              "      <td>8396</td>\n",
              "      <td>12</td>\n",
              "    </tr>\n",
              "    <tr>\n",
              "      <th>6</th>\n",
              "      <td>fwd</td>\n",
              "      <td>sedan</td>\n",
              "      <td>9611</td>\n",
              "      <td>17</td>\n",
              "    </tr>\n",
              "    <tr>\n",
              "      <th>7</th>\n",
              "      <td>fwd</td>\n",
              "      <td>wagon</td>\n",
              "      <td>9997</td>\n",
              "      <td>15</td>\n",
              "    </tr>\n",
              "    <tr>\n",
              "      <th>8</th>\n",
              "      <td>rwd</td>\n",
              "      <td>convertible</td>\n",
              "      <td>23949</td>\n",
              "      <td>18</td>\n",
              "    </tr>\n",
              "    <tr>\n",
              "      <th>9</th>\n",
              "      <td>rwd</td>\n",
              "      <td>hardtop</td>\n",
              "      <td>24202</td>\n",
              "      <td>16</td>\n",
              "    </tr>\n",
              "    <tr>\n",
              "      <th>10</th>\n",
              "      <td>rwd</td>\n",
              "      <td>hatchback</td>\n",
              "      <td>14337</td>\n",
              "      <td>14</td>\n",
              "    </tr>\n",
              "    <tr>\n",
              "      <th>11</th>\n",
              "      <td>rwd</td>\n",
              "      <td>sedan</td>\n",
              "      <td>21711</td>\n",
              "      <td>19</td>\n",
              "    </tr>\n",
              "    <tr>\n",
              "      <th>12</th>\n",
              "      <td>rwd</td>\n",
              "      <td>wagon</td>\n",
              "      <td>16994</td>\n",
              "      <td>15</td>\n",
              "    </tr>\n",
              "  </tbody>\n",
              "</table>\n",
              "</div>"
            ],
            "text/plain": [
              "   drive-wheels   body-style  price  mpg\n",
              "0           4wd    hatchback   7603   17\n",
              "1           4wd        sedan  12647   17\n",
              "2           4wd        wagon   9095   23\n",
              "3           fwd  convertible  11595   18\n",
              "4           fwd      hardtop   8249   15\n",
              "5           fwd    hatchback   8396   12\n",
              "6           fwd        sedan   9611   17\n",
              "7           fwd        wagon   9997   15\n",
              "8           rwd  convertible  23949   18\n",
              "9           rwd      hardtop  24202   16\n",
              "10          rwd    hatchback  14337   14\n",
              "11          rwd        sedan  21711   19\n",
              "12          rwd        wagon  16994   15"
            ]
          },
          "metadata": {},
          "execution_count": 16
        }
      ]
    },
    {
      "cell_type": "code",
      "source": [
        "#El coeficiente de correlación si es cercano a 1 gran relación positiva\n",
        "#El coeficiente de correlación si es cercano a -1 gran relación negativa\n",
        "#cercano a 0 no hay relación\n",
        "\n",
        "#p-value \n",
        "#p-value < 0.001 gran certeza en el resultado\n",
        "#p-value < 0.05 certeza moderada\n",
        "#p-value <0.1 certeza débil\n",
        "#p-value > 0.1 no hay certeza\n",
        "\n",
        "pearson_coef,p_value=sc.stats.pearsonr(df[\"mpg\"],df[\"price\"])\n",
        "print(\"Coeficiente de correlacion: \",pearson_coef)\n",
        "print(\"p-value: \", p_value)"
      ],
      "metadata": {
        "colab": {
          "base_uri": "https://localhost:8080/"
        },
        "id": "Oxsw2iROXLk6",
        "outputId": "b1ce4a10-8317-4ce2-f141-25659dd5aa7b"
      },
      "execution_count": 17,
      "outputs": [
        {
          "output_type": "stream",
          "name": "stdout",
          "text": [
            "Coeficiente de correlacion:  0.11442702462873572\n",
            "p-value:  0.7097232448083236\n"
          ]
        }
      ]
    },
    {
      "cell_type": "code",
      "source": [
        "#La regresión lineal sirve para entender la relación entre 2 variables\n",
        "#el predictor (x) y el objetivo (y)\n",
        "\n",
        "\n",
        "X=df[['mpg']]\n",
        "Y=df['price']\n",
        "\n",
        "lm.fit(X,Y)\n",
        "Yhat = lm.predict(X)\n",
        "Yhat"
      ],
      "metadata": {
        "colab": {
          "base_uri": "https://localhost:8080/"
        },
        "id": "YzE0TN9UuSiD",
        "outputId": "51a64209-0518-4f01-cf3b-8f62a43e483e"
      },
      "execution_count": 21,
      "outputs": [
        {
          "output_type": "execute_result",
          "data": {
            "text/plain": [
              "array([13821.26236749, 13821.26236749, 15369.75530035, 14079.34452297,\n",
              "       13305.09805654, 12530.85159011, 13821.26236749, 13305.09805654,\n",
              "       14079.34452297, 13563.18021201, 13047.01590106, 14337.42667845,\n",
              "       13305.09805654])"
            ]
          },
          "metadata": {},
          "execution_count": 21
        }
      ]
    },
    {
      "cell_type": "code",
      "source": [
        "#También podemos calcular la intercepción\n",
        "lm.intercept_"
      ],
      "metadata": {
        "colab": {
          "base_uri": "https://localhost:8080/"
        },
        "id": "j5tLOwZVvAVX",
        "outputId": "367b5acf-33bb-4b63-d33e-0bc67c9ac75e"
      },
      "execution_count": 22,
      "outputs": [
        {
          "output_type": "execute_result",
          "data": {
            "text/plain": [
              "9433.865724381627"
            ]
          },
          "metadata": {},
          "execution_count": 22
        }
      ]
    },
    {
      "cell_type": "code",
      "source": [
        "#También podemos calcular la pendiente con\n",
        "lm.coef_"
      ],
      "metadata": {
        "colab": {
          "base_uri": "https://localhost:8080/"
        },
        "id": "ixrDy9wJvJKm",
        "outputId": "e4673c9f-f56c-4d52-b42e-f4773cb6da80"
      },
      "execution_count": 23,
      "outputs": [
        {
          "output_type": "execute_result",
          "data": {
            "text/plain": [
              "array([258.08215548])"
            ]
          },
          "metadata": {},
          "execution_count": 23
        }
      ]
    },
    {
      "cell_type": "code",
      "source": [
        "#La relación entre el precio y los mpg va a estar dado por\n",
        "A=lm.intercept_\n",
        "B=lm.coef_\n",
        "\n",
        "Price=A-B * df[\"mpg\"]\n",
        "Price"
      ],
      "metadata": {
        "colab": {
          "base_uri": "https://localhost:8080/"
        },
        "id": "8kJo_5dtvPZZ",
        "outputId": "01ab9e27-25d4-4da8-8601-3fb3c0c124ea"
      },
      "execution_count": 24,
      "outputs": [
        {
          "output_type": "execute_result",
          "data": {
            "text/plain": [
              "0     5046.469081\n",
              "1     5046.469081\n",
              "2     3497.976148\n",
              "3     4788.386926\n",
              "4     5562.633392\n",
              "5     6336.879859\n",
              "6     5046.469081\n",
              "7     5562.633392\n",
              "8     4788.386926\n",
              "9     5304.551237\n",
              "10    5820.715548\n",
              "11    4530.304770\n",
              "12    5562.633392\n",
              "Name: mpg, dtype: float64"
            ]
          },
          "metadata": {},
          "execution_count": 24
        }
      ]
    }
  ]
}