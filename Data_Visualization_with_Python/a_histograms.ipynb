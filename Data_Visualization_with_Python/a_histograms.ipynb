{
  "nbformat": 4,
  "nbformat_minor": 0,
  "metadata": {
    "colab": {
      "name": "a_histograms",
      "provenance": [],
      "collapsed_sections": []
    },
    "kernelspec": {
      "name": "python3",
      "display_name": "Python 3"
    },
    "language_info": {
      "name": "python"
    }
  },
  "cells": [
    {
      "cell_type": "code",
      "execution_count": 3,
      "metadata": {
        "id": "N7foXn4SvKNQ"
      },
      "outputs": [],
      "source": [
        "from matplotlib.backends.backend_agg import FigureCanvasAgg as FigureCanvas\n",
        "from matplotlib.figure import Figure\n",
        "fig = Figure()\n",
        "canvas = FigureCanvas(fig)"
      ]
    },
    {
      "cell_type": "code",
      "source": [
        "#Creamos 10000 números random\n",
        "import numpy as np\n",
        "x=np.random.randn(10000)\n",
        "x"
      ],
      "metadata": {
        "colab": {
          "base_uri": "https://localhost:8080/"
        },
        "id": "dAOefG4ozwac",
        "outputId": "f9198557-a503-4c12-f12b-51de805fda82"
      },
      "execution_count": 5,
      "outputs": [
        {
          "output_type": "execute_result",
          "data": {
            "text/plain": [
              "array([ 0.01224267,  0.9050686 , -0.36889933, ..., -0.11896637,\n",
              "       -0.42007526, -0.02863107])"
            ]
          },
          "metadata": {},
          "execution_count": 5
        }
      ]
    },
    {
      "cell_type": "code",
      "source": [
        "#Creamos un artista de ejes\n",
        "ax=fig.add_subplot(111)"
      ],
      "metadata": {
        "id": "5Xs6CprIz4rD"
      },
      "execution_count": 6,
      "outputs": []
    },
    {
      "cell_type": "code",
      "source": [
        "#Generamos un histograma de los 10000 numeros\n",
        "ax.hist(x,100)"
      ],
      "metadata": {
        "colab": {
          "base_uri": "https://localhost:8080/"
        },
        "id": "VzmuCg_Rz-yu",
        "outputId": "69d82e0b-46fd-46db-a302-a27c8a0a0eb7"
      },
      "execution_count": 7,
      "outputs": [
        {
          "output_type": "execute_result",
          "data": {
            "text/plain": [
              "(array([  1.,   0.,   0.,   1.,   1.,   1.,   2.,   0.,   1.,   2.,   2.,\n",
              "          2.,   2.,   4.,   0.,   3.,   5.,   4.,  12.,  12.,  11.,  14.,\n",
              "         19.,  26.,  30.,  33.,  38.,  39.,  56.,  54.,  73.,  93.,  89.,\n",
              "        100., 129., 100., 135., 153., 195., 202., 214., 230., 229., 274.,\n",
              "        267., 288., 311., 279., 293., 323., 316., 322., 307., 293., 317.,\n",
              "        303., 274., 291., 294., 270., 236., 268., 234., 216., 185., 170.,\n",
              "        136., 171., 130., 134.,  91., 102.,  87.,  69.,  72.,  61.,  47.,\n",
              "         46.,  40.,  37.,  26.,  19.,  13.,  14.,   8.,  15.,  10.,   3.,\n",
              "          8.,   3.,   1.,   3.,   1.,   1.,   0.,   1.,   0.,   0.,   2.,\n",
              "          1.]),\n",
              " array([-4.19232508, -4.11208896, -4.03185285, -3.95161674, -3.87138062,\n",
              "        -3.79114451, -3.71090839, -3.63067228, -3.55043616, -3.47020005,\n",
              "        -3.38996394, -3.30972782, -3.22949171, -3.14925559, -3.06901948,\n",
              "        -2.98878337, -2.90854725, -2.82831114, -2.74807502, -2.66783891,\n",
              "        -2.5876028 , -2.50736668, -2.42713057, -2.34689445, -2.26665834,\n",
              "        -2.18642223, -2.10618611, -2.02595   , -1.94571388, -1.86547777,\n",
              "        -1.78524166, -1.70500554, -1.62476943, -1.54453331, -1.4642972 ,\n",
              "        -1.38406109, -1.30382497, -1.22358886, -1.14335274, -1.06311663,\n",
              "        -0.98288051, -0.9026444 , -0.82240829, -0.74217217, -0.66193606,\n",
              "        -0.58169994, -0.50146383, -0.42122772, -0.3409916 , -0.26075549,\n",
              "        -0.18051937, -0.10028326, -0.02004715,  0.06018897,  0.14042508,\n",
              "         0.2206612 ,  0.30089731,  0.38113342,  0.46136954,  0.54160565,\n",
              "         0.62184177,  0.70207788,  0.78231399,  0.86255011,  0.94278622,\n",
              "         1.02302234,  1.10325845,  1.18349456,  1.26373068,  1.34396679,\n",
              "         1.42420291,  1.50443902,  1.58467514,  1.66491125,  1.74514736,\n",
              "         1.82538348,  1.90561959,  1.98585571,  2.06609182,  2.14632793,\n",
              "         2.22656405,  2.30680016,  2.38703628,  2.46727239,  2.5475085 ,\n",
              "         2.62774462,  2.70798073,  2.78821685,  2.86845296,  2.94868907,\n",
              "         3.02892519,  3.1091613 ,  3.18939742,  3.26963353,  3.34986964,\n",
              "         3.43010576,  3.51034187,  3.59057799,  3.6708141 ,  3.75105021,\n",
              "         3.83128633]),\n",
              " <a list of 100 Patch objects>)"
            ]
          },
          "metadata": {},
          "execution_count": 7
        }
      ]
    },
    {
      "cell_type": "code",
      "source": [
        "#le agregamos un título\n",
        "ax.set_title(\"Normal distribution with $\\nu=0, \\signa=1$\")\n",
        "fig.savefig('matplotlib_histogram.png')"
      ],
      "metadata": {
        "id": "I-96rkT90GIA"
      },
      "execution_count": 10,
      "outputs": []
    },
    {
      "cell_type": "code",
      "source": [
        "#usando la interfaz de pyplot \n",
        "import matplotlib.pyplot as plt\n",
        "import numpy as np\n",
        "\n",
        "x=np.random.randn(10000)\n",
        "plt.hist(x,100)\n",
        "plt.title(\"Distribución normal\")\n",
        "plt.savefig(\"matplotlib_histogram2.png\")\n",
        "plt.show()"
      ],
      "metadata": {
        "colab": {
          "base_uri": "https://localhost:8080/",
          "height": 281
        },
        "id": "NsU8yGuK0kE-",
        "outputId": "bf285aae-ee04-4b3b-9458-172723f4c9ff"
      },
      "execution_count": 11,
      "outputs": [
        {
          "output_type": "display_data",
          "data": {
            "image/png": "[encoded data removed]",
            "text/plain": [
              "<Figure size 432x288 with 1 Axes>"
            ]
          },
          "metadata": {
            "needs_background": "light"
          }
        }
      ]
    }
  ]
}